{
 "cells": [
  {
   "cell_type": "markdown",
   "metadata": {
    "deletable": true,
    "editable": true
   },
   "source": [
    "# Introducción a pandas\n",
    "\n",
    "\n",
    "\n",
    "[Pandas](http://pandas.pydata.org/) es una biblioteca de alto rendimiento que proporciona un conjunto completo de estructuras de datos para manipular datos tabulares, proporcionar  indexación de alto rendimiento, alineación automática, remodelación, agrupación, uniones  y capacidades de análisis estadístico.\n",
    "\n",
    "![](pandas)\n",
    "\n",
    "Las dos estructuras de datos principales en pandas son los objetos **Series** y **DataFrame**. El objeto Series se basa en las características de un `ndarray` de NumPy por lo que proporciona operaciones tales como indexación, etiquetado de ejes, alineación, etc."
   ]
  },
  {
   "cell_type": "markdown",
   "metadata": {
    "deletable": true,
    "editable": true
   },
   "source": [
    "## El objeto Series \n",
    "\n",
    "El objeto  `Series` es uno de los  bloques de construcción principal  de pandas. Este objeto  representa una matriz indexada,  etiquetada, unidimensional basada en el  objeto `ndarray` de NumPy. Al igual que una matriz, el objeto `Series` puede contener cero o más valores de algún tipo de dato.\n",
    "\n",
    "`Series` de pandas se diferencia  de las matrices NumPy, por la adición de un conjunto asociado de etiquetas que se utilizan para indexar y acceder  a los elementos de la matriz por valores de etiquetas en lugar de acceder por la posición de un número entero. Este índice etiquetado es una característica de `Series`  y agrega  mayor poder para acceder a los elementos de `Series` que una matriz de   NumPy.\n",
    "\n",
    "\n",
    "Un objeto `Series` siempre tiene un índice por defecto si no se especifica uno. En este caso predeterminado, pandas creará un índice que consiste en enteros secuenciales a partir de cero. Este comportamiento predeterminado hará que `Series ` inicialmente parezca  a una matriz NumPy. Esto es por diseño, ya que `Series` se derivó de una matriz NumPy. Esto permite aun  que el objeto `Series` sea utilizado por el código de NumPy existente que usa la búsqueda de posición basada en enteros. En versiones recientes de pandas, esta derivación desde `ndarray` ha sido eliminada, pero `Series` sigue siendo compatible con el  API de Numpy.\n",
    "\n",
    "A pesar de que `Series` con un índice entero  por defecto parece idéntico a una matriz de NumPy, el acceso a los elementos no se da por la posición de un número entero, sino  utilizando valores en el índice (denominado etiquetas). La librería  pandas usará las etiquetas proporcionadas para realizar una búsqueda de valores para esas etiquetas.\n",
    "A diferencia de una matriz, las etiquetas de índice no necesitan ser números enteros, pueden tener  etiquetas repetidas,  tener conjuntos jerárquicos de etiquetas y se utilizan  en un concepto de pandas, conocido como alineación automática de valores por etiqueta de índice.\n",
    "\n",
    "Esta alineación automática es el cambio más significativo que `Series` hace sobre `ndarray`. Las operaciones aplicadas a través de múltiples objetos pandas (un ejemplo simple puede ser la adición) no se aplican  a los valores en orden por posición en el objeto `Series`. La biblioteca pandas primero alineará los dos objetos pandas mediante las etiquetas de índice y luego aplicará los valores de operación con etiquetas alineadas. Esto es en cierto modo, un tipo simple de unión y le permite asociar datos con etiquetas de índice comunes sin ningún esfuerzo.\n",
    "\n",
    "Un índice de pandas es un componente de primera clase de pandas. pandas proporciona diversas especializaciones de índices para diferentes tipos de datos, cada uno de ellos altamente optimizado para esos tipos de datos, ya sean enteros, flotantes, cadenas, fecha y hora o cualquier otro tipo de objeto de pandas. Además,  `Series` puede reindexarse en otros tipos de índices, proporcionando de manera efectiva diferentes vistas en el objeto `Series` utilizando diferentes índices.\n",
    "\n",
    "Esta capacidad de construir dinámicamente vistas alternativas sobre datos utilizando índices  establece un entorno para la manipulación interactiva de datos, donde los datos pueden permanecer en una estructura única pero que pueden ser fácilmente transformados en vistas diferentes. Esto facilita la creación de un entorno muy interactivo para jugar con la información sin tener que verse  sobrecargado por la estructura, como sucede con las herramientas relacionales como SQL."
   ]
  },
  {
   "cell_type": "code",
   "execution_count": 1,
   "metadata": {
    "collapsed": true,
    "deletable": true,
    "editable": true
   },
   "outputs": [],
   "source": [
    "import numpy as np\n",
    "import pandas as pd"
   ]
  },
  {
   "cell_type": "markdown",
   "metadata": {},
   "source": [
    "Definimos un objeto  `Series`  instanciando un objeto `Series` de pandas con una lista. También se pueden  usar otros objetos de datos, como diccionarios y matrices de  Numpy para instanciar un objeto `Series`."
   ]
  },
  {
   "cell_type": "code",
   "execution_count": 2,
   "metadata": {
    "collapsed": false
   },
   "outputs": [
    {
     "data": {
      "text/plain": [
       "0    1\n",
       "1    2\n",
       "2    3\n",
       "3    4\n",
       "4    5\n",
       "dtype: int64"
      ]
     },
     "execution_count": 2,
     "metadata": {},
     "output_type": "execute_result"
    }
   ],
   "source": [
    "s1 = pd.Series([1, 2, 3, 4, 5])\n",
    "s1"
   ]
  },
  {
   "cell_type": "markdown",
   "metadata": {},
   "source": [
    "No hemos definido un índice en nuestro ejemplo, pero vemos dos columnas en nuestra salida: La columna derecha contiene nuestros datos, mientras que la columna izquierda contiene el índice. Pandas creó un índice por defecto comenzando con 0 pasando a 5, que es la longitud de los datos menos 1. Podemos acceder directamente al índice y a los valores de `S`, de la siguiente manera:"
   ]
  },
  {
   "cell_type": "code",
   "execution_count": 4,
   "metadata": {
    "collapsed": false
   },
   "outputs": [
    {
     "name": "stdout",
     "output_type": "stream",
     "text": [
      "RangeIndex(start=0, stop=5, step=1)\n"
     ]
    }
   ],
   "source": [
    "print(s1.index)"
   ]
  },
  {
   "cell_type": "code",
   "execution_count": 5,
   "metadata": {
    "collapsed": false
   },
   "outputs": [
    {
     "name": "stdout",
     "output_type": "stream",
     "text": [
      "[1 2 3 4 5]\n"
     ]
    }
   ],
   "source": [
    "print(s1.values)"
   ]
  },
  {
   "cell_type": "markdown",
   "metadata": {},
   "source": [
    "Si comparamos esto con creando  una matriz en Numpy, todavía hay muchas similitudes:"
   ]
  },
  {
   "cell_type": "code",
   "execution_count": 6,
   "metadata": {
    "collapsed": false
   },
   "outputs": [
    {
     "name": "stdout",
     "output_type": "stream",
     "text": [
      "[11 28 72  3  5  8]\n",
      "[1 2 3 4 5]\n",
      "<class 'numpy.ndarray'> <class 'numpy.ndarray'>\n"
     ]
    }
   ],
   "source": [
    "X = np.array([11, 28, 72, 3, 5, 8])\n",
    "print(X)\n",
    "print(s1.values)\n",
    "\n",
    "# Ambos son del mismo tipo:\n",
    "\n",
    "print(type(s1.values), type(X))"
   ]
  },
  {
   "cell_type": "markdown",
   "metadata": {},
   "source": [
    "Hasta ahora `Series` no ha sido muy diferente a  `ndarrays` de Numpy. Esto cambia, tan pronto como empezamos a definir objetos `Series` con índices individuales:"
   ]
  },
  {
   "cell_type": "code",
   "execution_count": 7,
   "metadata": {
    "collapsed": false
   },
   "outputs": [
    {
     "data": {
      "text/plain": [
       "python     2\n",
       "R         12\n",
       "C          1\n",
       "C++        3\n",
       "dtype: int64"
      ]
     },
     "execution_count": 7,
     "metadata": {},
     "output_type": "execute_result"
    }
   ],
   "source": [
    "lenguajes = ['python', 'R', 'C', 'C++']\n",
    "nivel = [2, 12, 1, 3]\n",
    "s2 = pd.Series(nivel, index=lenguajes)\n",
    "s2"
   ]
  },
  {
   "cell_type": "markdown",
   "metadata": {},
   "source": [
    "Una gran ventaja sobre las matrices  NumPy es obvia del ejemplo anterior: Podemos usar índices arbitrarios.Si agregamos dos `Series` con los mismos índices, obtendremos un objeto `Series` con el mismo índice y se añadirán los valores correspondientes:"
   ]
  },
  {
   "cell_type": "code",
   "execution_count": 10,
   "metadata": {
    "collapsed": false
   },
   "outputs": [
    {
     "name": "stdout",
     "output_type": "stream",
     "text": [
      "pera       37\n",
      "naranja    46\n",
      "cereza     83\n",
      "papaya     42\n",
      "dtype: int64\n",
      "suma de s3:  115\n"
     ]
    }
   ],
   "source": [
    "frutas = ['pera', 'naranja', 'cereza', 'papaya']\n",
    "s3 = pd.Series([20, 33, 52, 10], index=frutas)\n",
    "s4 = pd.Series([17, 13, 31, 32], index=frutas)\n",
    "print(s3 + s4)\n",
    "print(\"suma de s3: \", sum(s3))"
   ]
  },
  {
   "cell_type": "code",
   "execution_count": null,
   "metadata": {
    "collapsed": true
   },
   "outputs": [],
   "source": []
  }
 ],
 "metadata": {
  "kernelspec": {
   "display_name": "Python 3",
   "language": "python",
   "name": "python3"
  },
  "language_info": {
   "codemirror_mode": {
    "name": "ipython",
    "version": 3
   },
   "file_extension": ".py",
   "mimetype": "text/x-python",
   "name": "python",
   "nbconvert_exporter": "python",
   "pygments_lexer": "ipython3",
   "version": "3.5.2"
  }
 },
 "nbformat": 4,
 "nbformat_minor": 1
}
